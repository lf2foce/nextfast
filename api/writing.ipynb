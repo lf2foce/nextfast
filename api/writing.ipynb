{
 "cells": [
  {
   "cell_type": "code",
   "execution_count": 6,
   "metadata": {},
   "outputs": [
    {
     "data": {
      "text/plain": [
       "True"
      ]
     },
     "execution_count": 6,
     "metadata": {},
     "output_type": "execute_result"
    }
   ],
   "source": [
    "from dotenv import load_dotenv\n",
    "import os \n",
    "load_dotenv()"
   ]
  },
  {
   "cell_type": "code",
   "execution_count": 7,
   "metadata": {},
   "outputs": [],
   "source": [
    "from fastapi import FastAPI, HTTPException\n",
    "import pandas as pd\n",
    "from pydantic import BaseModel\n",
    "from typing import Dict\n",
    "from openai import OpenAI\n",
    "\n",
    "\n",
    "\n",
    "client = OpenAI(\n",
    "    api_key=os.environ.get(\"OPENAI_API_KEY\"),  # This is the default and can be omitted\n",
    ")\n",
    "rubrics = {\n",
    "    \"task_response\": \"Evaluates how well the essay addresses the prompt and develops arguments.\",\n",
    "    \"coherence_cohesion\": \"Assesses logical flow, paragraphing, and use of linking words.\",\n",
    "    \"lexical_resource\": \"Measures vocabulary range and word choice.\",\n",
    "    \"grammar_accuracy\": \"Checks grammatical structures and sentence complexity.\"\n",
    "}\n",
    "\n",
    "class EssayRequest(BaseModel):\n",
    "    essay: str\n",
    "\n",
    "class EssayResponse(BaseModel):\n",
    "    scores: Dict[str, float]\n",
    "    feedback: Dict[str, str]\n",
    "\n",
    "def evaluate_essay(essay: EssayRequest):\n",
    "    # essay = request.essay\n",
    "    # if not essay:\n",
    "    #     raise HTTPException(status_code=400, detail=\"Essay cannot be empty\")\n",
    "    \n",
    "    try:\n",
    "        chat_completion = client.chat.completions.create(\n",
    "            model=\"gpt-4o\",\n",
    "            messages=[\n",
    "                {\"role\": \"system\", \"content\": \"You are an IELTS examiner. Evaluate the essay based on the IELTS scoring rubrics.\"},\n",
    "                {\"role\": \"user\", \"content\": f\"Essay: {essay}\\nEvaluate based on: {rubrics}\"}\n",
    "            ]\n",
    "        )\n",
    "        ai_output = chat_completion.choices[0].message.content\n",
    "        scores, feedback = parse_response(ai_output)\n",
    "        return EssayResponse(scores=scores, feedback=feedback)\n",
    "    except Exception as e:\n",
    "        raise HTTPException(status_code=500, detail=f\"Error processing essay: {str(e)}\")\n",
    "\n",
    "\n",
    "def parse_response(ai_output: str):\n",
    "    \"\"\"Parse AI output into scores and feedback.\"\"\"\n",
    "    scores = {\n",
    "        \"task_response\": 6.5,\n",
    "        \"coherence_cohesion\": 7.0,\n",
    "        \"lexical_resource\": 6.0,\n",
    "        \"grammar_accuracy\": 6.5\n",
    "    }\n",
    "    feedback = {\n",
    "        \"task_response\": \"Your argument is clear but lacks strong supporting details.\",\n",
    "        \"coherence_cohesion\": \"Good use of linking words, but some transitions are abrupt.\",\n",
    "        \"lexical_resource\": \"Vocabulary range is adequate but lacks variety.\",\n",
    "        \"grammar_accuracy\": \"Some grammatical errors, but overall readability is good.\"\n",
    "    }\n",
    "    return scores, feedback"
   ]
  },
  {
   "cell_type": "code",
   "execution_count": 8,
   "metadata": {},
   "outputs": [
    {
     "data": {
      "text/plain": [
       "EssayResponse(scores={'task_response': 6.5, 'coherence_cohesion': 7.0, 'lexical_resource': 6.0, 'grammar_accuracy': 6.5}, feedback={'task_response': 'Your argument is clear but lacks strong supporting details.', 'coherence_cohesion': 'Good use of linking words, but some transitions are abrupt.', 'lexical_resource': 'Vocabulary range is adequate but lacks variety.', 'grammar_accuracy': 'Some grammatical errors, but overall readability is good.'})"
      ]
     },
     "execution_count": 8,
     "metadata": {},
     "output_type": "execute_result"
    }
   ],
   "source": [
    "evaluate_essay('hello world')"
   ]
  }
 ],
 "metadata": {
  "kernelspec": {
   "display_name": "ab312",
   "language": "python",
   "name": "python3"
  },
  "language_info": {
   "codemirror_mode": {
    "name": "ipython",
    "version": 3
   },
   "file_extension": ".py",
   "mimetype": "text/x-python",
   "name": "python",
   "nbconvert_exporter": "python",
   "pygments_lexer": "ipython3",
   "version": "3.12.7"
  }
 },
 "nbformat": 4,
 "nbformat_minor": 2
}
